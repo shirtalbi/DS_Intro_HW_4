{
 "cells": [
  {
   "cell_type": "code",
   "execution_count": 61,
   "id": "4f696e65",
   "metadata": {},
   "outputs": [],
   "source": [
    "import requests\n",
    "from datetime import datetime, timedelta"
   ]
  },
  {
   "cell_type": "code",
   "execution_count": 43,
   "id": "74cad39f",
   "metadata": {
    "scrolled": true
   },
   "outputs": [
    {
     "name": "stdout",
     "output_type": "stream",
     "text": [
      "['Istanbul', 'Amsterdam', 'Valletta', 'Basel', 'Doha']\n"
     ]
    }
   ],
   "source": [
    "with open('C:/temp/dests.txt', 'r') as f:\n",
    "    dests = [line.strip() for line in f]\n",
    "    \n",
    "print(dests)"
   ]
  },
  {
   "cell_type": "code",
   "execution_count": 74,
   "id": "39b374d3",
   "metadata": {},
   "outputs": [],
   "source": [
    "url = \"https://maps.googleapis.com/maps/api/distancematrix/json?origins=jerusalem&destinations=\" +\"|\".join((x) for x in dests) + \"&key=SHAIzaSyCPXCH2b5fdeQsgvtuTVbgST14F8BK8vjkIR\"\n",
    "\n",
    "response = requests.get(url)\n",
    "\n",
    "obj = response.json()['rows'][0]['elements']\n",
    "\n",
    "url = \"https://maps.googleapis.com/maps/api/geocode/json?address=\" + \"|\" .join(dests) + \"&key=SHAIzaSyCPXCH2b5fdeQsgvtuTVbgST14F8BK8vjkIR\"\n",
    "response = requests.get(url)\n",
    "addressesGeo = response2.json()['results']\n",
    "\n",
    "dic = {}\n",
    "\n",
    "for i in range(len(obj)):\n",
    "    arrive = (datetime.now() + timedelta(seconds=obj[i]['duration']['value'])).strftime('%Y-%m-%d %H:%M')\n",
    "    dic[dests[i]] = (obj[i]['distance']['text'],arrive,addressesGeo[i][\"geometry\"][\"location\"][\"lng\"],addressesGeo[i][\"geometry\"][\"location\"][\"lat\"])"
   ]
  },
  {
   "cell_type": "code",
   "execution_count": 73,
   "id": "89d177f8",
   "metadata": {},
   "outputs": [
    {
     "name": "stdout",
     "output_type": "stream",
     "text": [
      "Istanbul: (1808887, '2022-04-20 20:23', 4.9041389, 52.3675734)\n",
      "\n",
      "Amsterdam: (4527785, '2022-04-21 23:14', 28.9783589, 41.0082376)\n",
      "\n",
      "Valletta: (3782994, '2022-04-22 02:10', 51.53103979999999, 25.2854473)\n",
      "\n",
      "Basel: (4091383, '2022-04-21 19:24', 14.5145528, 35.8989085)\n",
      "\n",
      "Doha: (2103889, '2022-04-20 21:32', 7.5885761, 47.5595986)\n",
      "\n"
     ]
    }
   ],
   "source": [
    "for d in dic:\n",
    "    print(f\"{d}: %s\\n\" % (dic[d],))"
   ]
  },
  {
   "cell_type": "code",
   "execution_count": 94,
   "id": "95265b42",
   "metadata": {},
   "outputs": [
    {
     "name": "stdout",
     "output_type": "stream",
     "text": [
      "[('Amsterdam', 4527785), ('Basel', 4091383), ('Valletta', 3782994)]\n"
     ]
    }
   ],
   "source": [
    "distDic = []\n",
    "\n",
    "for i in range(len(obj)):\n",
    "    distDic.append((dests[i],obj[i]['distance']['value']))\n",
    "\n",
    "distDic = sorted(distDic, key=lambda tup: tup[1])\n",
    "distDic.reverse()\n",
    "print(distDic[0:3])\n"
   ]
  }
 ],
 "metadata": {
  "kernelspec": {
   "display_name": "Python 3 (ipykernel)",
   "language": "python",
   "name": "python3"
  },
  "language_info": {
   "codemirror_mode": {
    "name": "ipython",
    "version": 3
   },
   "file_extension": ".py",
   "mimetype": "text/x-python",
   "name": "python",
   "nbconvert_exporter": "python",
   "pygments_lexer": "ipython3",
   "version": "3.9.7"
  }
 },
 "nbformat": 4,
 "nbformat_minor": 5
}
